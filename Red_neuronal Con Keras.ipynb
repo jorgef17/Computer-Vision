{
 "cells": [
  {
   "cell_type": "code",
   "execution_count": 1,
   "metadata": {},
   "outputs": [],
   "source": [
    "import numpy as np"
   ]
  },
  {
   "cell_type": "markdown",
   "metadata": {},
   "source": [
    "https://archive.ics.uci.edu/ml/datasets/banknote+authentication\n"
   ]
  },
  {
   "cell_type": "code",
   "execution_count": 2,
   "metadata": {},
   "outputs": [],
   "source": [
    "from numpy import genfromtxt\n",
    "\n",
    "data = genfromtxt('bank_note_data.txt',delimiter=',')"
   ]
  },
  {
   "cell_type": "code",
   "execution_count": 3,
   "metadata": {},
   "outputs": [
    {
     "data": {
      "text/plain": [
       "array([[  3.6216 ,   8.6661 ,  -2.8073 ,  -0.44699,   0.     ],\n",
       "       [  4.5459 ,   8.1674 ,  -2.4586 ,  -1.4621 ,   0.     ],\n",
       "       [  3.866  ,  -2.6383 ,   1.9242 ,   0.10645,   0.     ],\n",
       "       ...,\n",
       "       [ -3.7503 , -13.4586 ,  17.5932 ,  -2.7771 ,   1.     ],\n",
       "       [ -3.5637 ,  -8.3827 ,  12.393  ,  -1.2823 ,   1.     ],\n",
       "       [ -2.5419 ,  -0.65804,   2.6842 ,   1.1952 ,   1.     ]])"
      ]
     },
     "execution_count": 3,
     "metadata": {},
     "output_type": "execute_result"
    }
   ],
   "source": [
    "data"
   ]
  },
  {
   "cell_type": "code",
   "execution_count": 4,
   "metadata": {},
   "outputs": [],
   "source": [
    "etiquetas = data[:,4]"
   ]
  },
  {
   "cell_type": "code",
   "execution_count": 5,
   "metadata": {},
   "outputs": [],
   "source": [
    "caracteristicas = data[:,0:4]"
   ]
  },
  {
   "cell_type": "code",
   "execution_count": 6,
   "metadata": {},
   "outputs": [],
   "source": [
    "X = caracteristicas\n",
    "y = etiquetas"
   ]
  },
  {
   "cell_type": "markdown",
   "metadata": {},
   "source": [
    "# Separamos en train y test"
   ]
  },
  {
   "cell_type": "code",
   "execution_count": 7,
   "metadata": {},
   "outputs": [],
   "source": [
    "# !pip install scikit-learn\n"
   ]
  },
  {
   "cell_type": "code",
   "execution_count": 8,
   "metadata": {},
   "outputs": [],
   "source": [
    "from sklearn.model_selection import train_test_split"
   ]
  },
  {
   "cell_type": "code",
   "execution_count": 9,
   "metadata": {},
   "outputs": [],
   "source": [
    "X_train, X_test, y_train, y_test = train_test_split(X, y, test_size=0.33, random_state=42)\n"
   ]
  },
  {
   "cell_type": "markdown",
   "metadata": {},
   "source": [
    "# normalizar"
   ]
  },
  {
   "cell_type": "code",
   "execution_count": 10,
   "metadata": {},
   "outputs": [],
   "source": [
    "from sklearn.preprocessing import MinMaxScaler"
   ]
  },
  {
   "cell_type": "code",
   "execution_count": 11,
   "metadata": {},
   "outputs": [],
   "source": [
    "scaler_object = MinMaxScaler()"
   ]
  },
  {
   "cell_type": "code",
   "execution_count": 12,
   "metadata": {},
   "outputs": [
    {
     "data": {
      "text/html": [
       "<style>#sk-container-id-1 {\n",
       "  /* Definition of color scheme common for light and dark mode */\n",
       "  --sklearn-color-text: black;\n",
       "  --sklearn-color-line: gray;\n",
       "  /* Definition of color scheme for unfitted estimators */\n",
       "  --sklearn-color-unfitted-level-0: #fff5e6;\n",
       "  --sklearn-color-unfitted-level-1: #f6e4d2;\n",
       "  --sklearn-color-unfitted-level-2: #ffe0b3;\n",
       "  --sklearn-color-unfitted-level-3: chocolate;\n",
       "  /* Definition of color scheme for fitted estimators */\n",
       "  --sklearn-color-fitted-level-0: #f0f8ff;\n",
       "  --sklearn-color-fitted-level-1: #d4ebff;\n",
       "  --sklearn-color-fitted-level-2: #b3dbfd;\n",
       "  --sklearn-color-fitted-level-3: cornflowerblue;\n",
       "\n",
       "  /* Specific color for light theme */\n",
       "  --sklearn-color-text-on-default-background: var(--sg-text-color, var(--theme-code-foreground, var(--jp-content-font-color1, black)));\n",
       "  --sklearn-color-background: var(--sg-background-color, var(--theme-background, var(--jp-layout-color0, white)));\n",
       "  --sklearn-color-border-box: var(--sg-text-color, var(--theme-code-foreground, var(--jp-content-font-color1, black)));\n",
       "  --sklearn-color-icon: #696969;\n",
       "\n",
       "  @media (prefers-color-scheme: dark) {\n",
       "    /* Redefinition of color scheme for dark theme */\n",
       "    --sklearn-color-text-on-default-background: var(--sg-text-color, var(--theme-code-foreground, var(--jp-content-font-color1, white)));\n",
       "    --sklearn-color-background: var(--sg-background-color, var(--theme-background, var(--jp-layout-color0, #111)));\n",
       "    --sklearn-color-border-box: var(--sg-text-color, var(--theme-code-foreground, var(--jp-content-font-color1, white)));\n",
       "    --sklearn-color-icon: #878787;\n",
       "  }\n",
       "}\n",
       "\n",
       "#sk-container-id-1 {\n",
       "  color: var(--sklearn-color-text);\n",
       "}\n",
       "\n",
       "#sk-container-id-1 pre {\n",
       "  padding: 0;\n",
       "}\n",
       "\n",
       "#sk-container-id-1 input.sk-hidden--visually {\n",
       "  border: 0;\n",
       "  clip: rect(1px 1px 1px 1px);\n",
       "  clip: rect(1px, 1px, 1px, 1px);\n",
       "  height: 1px;\n",
       "  margin: -1px;\n",
       "  overflow: hidden;\n",
       "  padding: 0;\n",
       "  position: absolute;\n",
       "  width: 1px;\n",
       "}\n",
       "\n",
       "#sk-container-id-1 div.sk-dashed-wrapped {\n",
       "  border: 1px dashed var(--sklearn-color-line);\n",
       "  margin: 0 0.4em 0.5em 0.4em;\n",
       "  box-sizing: border-box;\n",
       "  padding-bottom: 0.4em;\n",
       "  background-color: var(--sklearn-color-background);\n",
       "}\n",
       "\n",
       "#sk-container-id-1 div.sk-container {\n",
       "  /* jupyter's `normalize.less` sets `[hidden] { display: none; }`\n",
       "     but bootstrap.min.css set `[hidden] { display: none !important; }`\n",
       "     so we also need the `!important` here to be able to override the\n",
       "     default hidden behavior on the sphinx rendered scikit-learn.org.\n",
       "     See: https://github.com/scikit-learn/scikit-learn/issues/21755 */\n",
       "  display: inline-block !important;\n",
       "  position: relative;\n",
       "}\n",
       "\n",
       "#sk-container-id-1 div.sk-text-repr-fallback {\n",
       "  display: none;\n",
       "}\n",
       "\n",
       "div.sk-parallel-item,\n",
       "div.sk-serial,\n",
       "div.sk-item {\n",
       "  /* draw centered vertical line to link estimators */\n",
       "  background-image: linear-gradient(var(--sklearn-color-text-on-default-background), var(--sklearn-color-text-on-default-background));\n",
       "  background-size: 2px 100%;\n",
       "  background-repeat: no-repeat;\n",
       "  background-position: center center;\n",
       "}\n",
       "\n",
       "/* Parallel-specific style estimator block */\n",
       "\n",
       "#sk-container-id-1 div.sk-parallel-item::after {\n",
       "  content: \"\";\n",
       "  width: 100%;\n",
       "  border-bottom: 2px solid var(--sklearn-color-text-on-default-background);\n",
       "  flex-grow: 1;\n",
       "}\n",
       "\n",
       "#sk-container-id-1 div.sk-parallel {\n",
       "  display: flex;\n",
       "  align-items: stretch;\n",
       "  justify-content: center;\n",
       "  background-color: var(--sklearn-color-background);\n",
       "  position: relative;\n",
       "}\n",
       "\n",
       "#sk-container-id-1 div.sk-parallel-item {\n",
       "  display: flex;\n",
       "  flex-direction: column;\n",
       "}\n",
       "\n",
       "#sk-container-id-1 div.sk-parallel-item:first-child::after {\n",
       "  align-self: flex-end;\n",
       "  width: 50%;\n",
       "}\n",
       "\n",
       "#sk-container-id-1 div.sk-parallel-item:last-child::after {\n",
       "  align-self: flex-start;\n",
       "  width: 50%;\n",
       "}\n",
       "\n",
       "#sk-container-id-1 div.sk-parallel-item:only-child::after {\n",
       "  width: 0;\n",
       "}\n",
       "\n",
       "/* Serial-specific style estimator block */\n",
       "\n",
       "#sk-container-id-1 div.sk-serial {\n",
       "  display: flex;\n",
       "  flex-direction: column;\n",
       "  align-items: center;\n",
       "  background-color: var(--sklearn-color-background);\n",
       "  padding-right: 1em;\n",
       "  padding-left: 1em;\n",
       "}\n",
       "\n",
       "\n",
       "/* Toggleable style: style used for estimator/Pipeline/ColumnTransformer box that is\n",
       "clickable and can be expanded/collapsed.\n",
       "- Pipeline and ColumnTransformer use this feature and define the default style\n",
       "- Estimators will overwrite some part of the style using the `sk-estimator` class\n",
       "*/\n",
       "\n",
       "/* Pipeline and ColumnTransformer style (default) */\n",
       "\n",
       "#sk-container-id-1 div.sk-toggleable {\n",
       "  /* Default theme specific background. It is overwritten whether we have a\n",
       "  specific estimator or a Pipeline/ColumnTransformer */\n",
       "  background-color: var(--sklearn-color-background);\n",
       "}\n",
       "\n",
       "/* Toggleable label */\n",
       "#sk-container-id-1 label.sk-toggleable__label {\n",
       "  cursor: pointer;\n",
       "  display: block;\n",
       "  width: 100%;\n",
       "  margin-bottom: 0;\n",
       "  padding: 0.5em;\n",
       "  box-sizing: border-box;\n",
       "  text-align: center;\n",
       "}\n",
       "\n",
       "#sk-container-id-1 label.sk-toggleable__label-arrow:before {\n",
       "  /* Arrow on the left of the label */\n",
       "  content: \"▸\";\n",
       "  float: left;\n",
       "  margin-right: 0.25em;\n",
       "  color: var(--sklearn-color-icon);\n",
       "}\n",
       "\n",
       "#sk-container-id-1 label.sk-toggleable__label-arrow:hover:before {\n",
       "  color: var(--sklearn-color-text);\n",
       "}\n",
       "\n",
       "/* Toggleable content - dropdown */\n",
       "\n",
       "#sk-container-id-1 div.sk-toggleable__content {\n",
       "  max-height: 0;\n",
       "  max-width: 0;\n",
       "  overflow: hidden;\n",
       "  text-align: left;\n",
       "  /* unfitted */\n",
       "  background-color: var(--sklearn-color-unfitted-level-0);\n",
       "}\n",
       "\n",
       "#sk-container-id-1 div.sk-toggleable__content.fitted {\n",
       "  /* fitted */\n",
       "  background-color: var(--sklearn-color-fitted-level-0);\n",
       "}\n",
       "\n",
       "#sk-container-id-1 div.sk-toggleable__content pre {\n",
       "  margin: 0.2em;\n",
       "  border-radius: 0.25em;\n",
       "  color: var(--sklearn-color-text);\n",
       "  /* unfitted */\n",
       "  background-color: var(--sklearn-color-unfitted-level-0);\n",
       "}\n",
       "\n",
       "#sk-container-id-1 div.sk-toggleable__content.fitted pre {\n",
       "  /* unfitted */\n",
       "  background-color: var(--sklearn-color-fitted-level-0);\n",
       "}\n",
       "\n",
       "#sk-container-id-1 input.sk-toggleable__control:checked~div.sk-toggleable__content {\n",
       "  /* Expand drop-down */\n",
       "  max-height: 200px;\n",
       "  max-width: 100%;\n",
       "  overflow: auto;\n",
       "}\n",
       "\n",
       "#sk-container-id-1 input.sk-toggleable__control:checked~label.sk-toggleable__label-arrow:before {\n",
       "  content: \"▾\";\n",
       "}\n",
       "\n",
       "/* Pipeline/ColumnTransformer-specific style */\n",
       "\n",
       "#sk-container-id-1 div.sk-label input.sk-toggleable__control:checked~label.sk-toggleable__label {\n",
       "  color: var(--sklearn-color-text);\n",
       "  background-color: var(--sklearn-color-unfitted-level-2);\n",
       "}\n",
       "\n",
       "#sk-container-id-1 div.sk-label.fitted input.sk-toggleable__control:checked~label.sk-toggleable__label {\n",
       "  background-color: var(--sklearn-color-fitted-level-2);\n",
       "}\n",
       "\n",
       "/* Estimator-specific style */\n",
       "\n",
       "/* Colorize estimator box */\n",
       "#sk-container-id-1 div.sk-estimator input.sk-toggleable__control:checked~label.sk-toggleable__label {\n",
       "  /* unfitted */\n",
       "  background-color: var(--sklearn-color-unfitted-level-2);\n",
       "}\n",
       "\n",
       "#sk-container-id-1 div.sk-estimator.fitted input.sk-toggleable__control:checked~label.sk-toggleable__label {\n",
       "  /* fitted */\n",
       "  background-color: var(--sklearn-color-fitted-level-2);\n",
       "}\n",
       "\n",
       "#sk-container-id-1 div.sk-label label.sk-toggleable__label,\n",
       "#sk-container-id-1 div.sk-label label {\n",
       "  /* The background is the default theme color */\n",
       "  color: var(--sklearn-color-text-on-default-background);\n",
       "}\n",
       "\n",
       "/* On hover, darken the color of the background */\n",
       "#sk-container-id-1 div.sk-label:hover label.sk-toggleable__label {\n",
       "  color: var(--sklearn-color-text);\n",
       "  background-color: var(--sklearn-color-unfitted-level-2);\n",
       "}\n",
       "\n",
       "/* Label box, darken color on hover, fitted */\n",
       "#sk-container-id-1 div.sk-label.fitted:hover label.sk-toggleable__label.fitted {\n",
       "  color: var(--sklearn-color-text);\n",
       "  background-color: var(--sklearn-color-fitted-level-2);\n",
       "}\n",
       "\n",
       "/* Estimator label */\n",
       "\n",
       "#sk-container-id-1 div.sk-label label {\n",
       "  font-family: monospace;\n",
       "  font-weight: bold;\n",
       "  display: inline-block;\n",
       "  line-height: 1.2em;\n",
       "}\n",
       "\n",
       "#sk-container-id-1 div.sk-label-container {\n",
       "  text-align: center;\n",
       "}\n",
       "\n",
       "/* Estimator-specific */\n",
       "#sk-container-id-1 div.sk-estimator {\n",
       "  font-family: monospace;\n",
       "  border: 1px dotted var(--sklearn-color-border-box);\n",
       "  border-radius: 0.25em;\n",
       "  box-sizing: border-box;\n",
       "  margin-bottom: 0.5em;\n",
       "  /* unfitted */\n",
       "  background-color: var(--sklearn-color-unfitted-level-0);\n",
       "}\n",
       "\n",
       "#sk-container-id-1 div.sk-estimator.fitted {\n",
       "  /* fitted */\n",
       "  background-color: var(--sklearn-color-fitted-level-0);\n",
       "}\n",
       "\n",
       "/* on hover */\n",
       "#sk-container-id-1 div.sk-estimator:hover {\n",
       "  /* unfitted */\n",
       "  background-color: var(--sklearn-color-unfitted-level-2);\n",
       "}\n",
       "\n",
       "#sk-container-id-1 div.sk-estimator.fitted:hover {\n",
       "  /* fitted */\n",
       "  background-color: var(--sklearn-color-fitted-level-2);\n",
       "}\n",
       "\n",
       "/* Specification for estimator info (e.g. \"i\" and \"?\") */\n",
       "\n",
       "/* Common style for \"i\" and \"?\" */\n",
       "\n",
       ".sk-estimator-doc-link,\n",
       "a:link.sk-estimator-doc-link,\n",
       "a:visited.sk-estimator-doc-link {\n",
       "  float: right;\n",
       "  font-size: smaller;\n",
       "  line-height: 1em;\n",
       "  font-family: monospace;\n",
       "  background-color: var(--sklearn-color-background);\n",
       "  border-radius: 1em;\n",
       "  height: 1em;\n",
       "  width: 1em;\n",
       "  text-decoration: none !important;\n",
       "  margin-left: 1ex;\n",
       "  /* unfitted */\n",
       "  border: var(--sklearn-color-unfitted-level-1) 1pt solid;\n",
       "  color: var(--sklearn-color-unfitted-level-1);\n",
       "}\n",
       "\n",
       ".sk-estimator-doc-link.fitted,\n",
       "a:link.sk-estimator-doc-link.fitted,\n",
       "a:visited.sk-estimator-doc-link.fitted {\n",
       "  /* fitted */\n",
       "  border: var(--sklearn-color-fitted-level-1) 1pt solid;\n",
       "  color: var(--sklearn-color-fitted-level-1);\n",
       "}\n",
       "\n",
       "/* On hover */\n",
       "div.sk-estimator:hover .sk-estimator-doc-link:hover,\n",
       ".sk-estimator-doc-link:hover,\n",
       "div.sk-label-container:hover .sk-estimator-doc-link:hover,\n",
       ".sk-estimator-doc-link:hover {\n",
       "  /* unfitted */\n",
       "  background-color: var(--sklearn-color-unfitted-level-3);\n",
       "  color: var(--sklearn-color-background);\n",
       "  text-decoration: none;\n",
       "}\n",
       "\n",
       "div.sk-estimator.fitted:hover .sk-estimator-doc-link.fitted:hover,\n",
       ".sk-estimator-doc-link.fitted:hover,\n",
       "div.sk-label-container:hover .sk-estimator-doc-link.fitted:hover,\n",
       ".sk-estimator-doc-link.fitted:hover {\n",
       "  /* fitted */\n",
       "  background-color: var(--sklearn-color-fitted-level-3);\n",
       "  color: var(--sklearn-color-background);\n",
       "  text-decoration: none;\n",
       "}\n",
       "\n",
       "/* Span, style for the box shown on hovering the info icon */\n",
       ".sk-estimator-doc-link span {\n",
       "  display: none;\n",
       "  z-index: 9999;\n",
       "  position: relative;\n",
       "  font-weight: normal;\n",
       "  right: .2ex;\n",
       "  padding: .5ex;\n",
       "  margin: .5ex;\n",
       "  width: min-content;\n",
       "  min-width: 20ex;\n",
       "  max-width: 50ex;\n",
       "  color: var(--sklearn-color-text);\n",
       "  box-shadow: 2pt 2pt 4pt #999;\n",
       "  /* unfitted */\n",
       "  background: var(--sklearn-color-unfitted-level-0);\n",
       "  border: .5pt solid var(--sklearn-color-unfitted-level-3);\n",
       "}\n",
       "\n",
       ".sk-estimator-doc-link.fitted span {\n",
       "  /* fitted */\n",
       "  background: var(--sklearn-color-fitted-level-0);\n",
       "  border: var(--sklearn-color-fitted-level-3);\n",
       "}\n",
       "\n",
       ".sk-estimator-doc-link:hover span {\n",
       "  display: block;\n",
       "}\n",
       "\n",
       "/* \"?\"-specific style due to the `<a>` HTML tag */\n",
       "\n",
       "#sk-container-id-1 a.estimator_doc_link {\n",
       "  float: right;\n",
       "  font-size: 1rem;\n",
       "  line-height: 1em;\n",
       "  font-family: monospace;\n",
       "  background-color: var(--sklearn-color-background);\n",
       "  border-radius: 1rem;\n",
       "  height: 1rem;\n",
       "  width: 1rem;\n",
       "  text-decoration: none;\n",
       "  /* unfitted */\n",
       "  color: var(--sklearn-color-unfitted-level-1);\n",
       "  border: var(--sklearn-color-unfitted-level-1) 1pt solid;\n",
       "}\n",
       "\n",
       "#sk-container-id-1 a.estimator_doc_link.fitted {\n",
       "  /* fitted */\n",
       "  border: var(--sklearn-color-fitted-level-1) 1pt solid;\n",
       "  color: var(--sklearn-color-fitted-level-1);\n",
       "}\n",
       "\n",
       "/* On hover */\n",
       "#sk-container-id-1 a.estimator_doc_link:hover {\n",
       "  /* unfitted */\n",
       "  background-color: var(--sklearn-color-unfitted-level-3);\n",
       "  color: var(--sklearn-color-background);\n",
       "  text-decoration: none;\n",
       "}\n",
       "\n",
       "#sk-container-id-1 a.estimator_doc_link.fitted:hover {\n",
       "  /* fitted */\n",
       "  background-color: var(--sklearn-color-fitted-level-3);\n",
       "}\n",
       "</style><div id=\"sk-container-id-1\" class=\"sk-top-container\"><div class=\"sk-text-repr-fallback\"><pre>MinMaxScaler()</pre><b>In a Jupyter environment, please rerun this cell to show the HTML representation or trust the notebook. <br />On GitHub, the HTML representation is unable to render, please try loading this page with nbviewer.org.</b></div><div class=\"sk-container\" hidden><div class=\"sk-item\"><div class=\"sk-estimator fitted sk-toggleable\"><input class=\"sk-toggleable__control sk-hidden--visually\" id=\"sk-estimator-id-1\" type=\"checkbox\" checked><label for=\"sk-estimator-id-1\" class=\"sk-toggleable__label fitted sk-toggleable__label-arrow fitted\">&nbsp;&nbsp;MinMaxScaler<a class=\"sk-estimator-doc-link fitted\" rel=\"noreferrer\" target=\"_blank\" href=\"https://scikit-learn.org/1.5/modules/generated/sklearn.preprocessing.MinMaxScaler.html\">?<span>Documentation for MinMaxScaler</span></a><span class=\"sk-estimator-doc-link fitted\">i<span>Fitted</span></span></label><div class=\"sk-toggleable__content fitted\"><pre>MinMaxScaler()</pre></div> </div></div></div></div>"
      ],
      "text/plain": [
       "MinMaxScaler()"
      ]
     },
     "execution_count": 12,
     "metadata": {},
     "output_type": "execute_result"
    }
   ],
   "source": [
    "scaler_object.fit(X_train)"
   ]
  },
  {
   "cell_type": "code",
   "execution_count": 13,
   "metadata": {},
   "outputs": [],
   "source": [
    "scaled_X_train = scaler_object.transform(X_train)"
   ]
  },
  {
   "cell_type": "code",
   "execution_count": 14,
   "metadata": {},
   "outputs": [],
   "source": [
    "scaled_X_test = scaler_object.transform(X_test)"
   ]
  },
  {
   "cell_type": "markdown",
   "metadata": {},
   "source": [
    "# empezar  a constuir el modelo"
   ]
  },
  {
   "cell_type": "code",
   "execution_count": 15,
   "metadata": {},
   "outputs": [],
   "source": [
    "#!pip install keras\n",
    "#!pip install tensorflow\n"
   ]
  },
  {
   "cell_type": "code",
   "execution_count": 16,
   "metadata": {},
   "outputs": [],
   "source": [
    "from keras.models import Sequential\n",
    "from keras.layers import Dense"
   ]
  },
  {
   "cell_type": "code",
   "execution_count": 17,
   "metadata": {},
   "outputs": [
    {
     "name": "stderr",
     "output_type": "stream",
     "text": [
      "c:\\Users\\Jorge\\.conda\\envs\\Vision_Computer\\Lib\\site-packages\\keras\\src\\layers\\core\\dense.py:87: UserWarning: Do not pass an `input_shape`/`input_dim` argument to a layer. When using Sequential models, prefer using an `Input(shape)` object as the first layer in the model instead.\n",
      "  super().__init__(activity_regularizer=activity_regularizer, **kwargs)\n"
     ]
    }
   ],
   "source": [
    "model = Sequential()\n",
    "model.add(Dense(4, input_dim=4, activation='relu'))\n",
    "model.add(Dense(8, activation='relu'))\n",
    "model.add(Dense(1, activation='sigmoid'))"
   ]
  },
  {
   "cell_type": "code",
   "execution_count": 18,
   "metadata": {},
   "outputs": [],
   "source": [
    "model.compile(optimizer='adam', loss='binary_crossentropy', metrics=['accuracy'])\n"
   ]
  },
  {
   "cell_type": "markdown",
   "metadata": {},
   "source": [
    "# Entrar modelo"
   ]
  },
  {
   "cell_type": "code",
   "execution_count": 19,
   "metadata": {},
   "outputs": [
    {
     "name": "stdout",
     "output_type": "stream",
     "text": [
      "Epoch 1/120\n",
      "29/29 - 1s - 27ms/step - accuracy: 0.5506 - loss: 0.6909\n",
      "Epoch 2/120\n",
      "29/29 - 0s - 1ms/step - accuracy: 0.5495 - loss: 0.6832\n",
      "Epoch 3/120\n",
      "29/29 - 0s - 1ms/step - accuracy: 0.5495 - loss: 0.6757\n",
      "Epoch 4/120\n",
      "29/29 - 0s - 1ms/step - accuracy: 0.5637 - loss: 0.6674\n",
      "Epoch 5/120\n",
      "29/29 - 0s - 1ms/step - accuracy: 0.6170 - loss: 0.6569\n",
      "Epoch 6/120\n",
      "29/29 - 0s - 1ms/step - accuracy: 0.6627 - loss: 0.6447\n",
      "Epoch 7/120\n",
      "29/29 - 0s - 1ms/step - accuracy: 0.6844 - loss: 0.6320\n",
      "Epoch 8/120\n",
      "29/29 - 0s - 1ms/step - accuracy: 0.6921 - loss: 0.6196\n",
      "Epoch 9/120\n",
      "29/29 - 0s - 1ms/step - accuracy: 0.7171 - loss: 0.6084\n",
      "Epoch 10/120\n",
      "29/29 - 0s - 1ms/step - accuracy: 0.7193 - loss: 0.5961\n",
      "Epoch 11/120\n",
      "29/29 - 0s - 1ms/step - accuracy: 0.7312 - loss: 0.5840\n",
      "Epoch 12/120\n",
      "29/29 - 0s - 1ms/step - accuracy: 0.7541 - loss: 0.5718\n",
      "Epoch 13/120\n",
      "29/29 - 0s - 2ms/step - accuracy: 0.7530 - loss: 0.5587\n",
      "Epoch 14/120\n",
      "29/29 - 0s - 1ms/step - accuracy: 0.7639 - loss: 0.5457\n",
      "Epoch 15/120\n",
      "29/29 - 0s - 1ms/step - accuracy: 0.7824 - loss: 0.5323\n",
      "Epoch 16/120\n",
      "29/29 - 0s - 1ms/step - accuracy: 0.7943 - loss: 0.5196\n",
      "Epoch 17/120\n",
      "29/29 - 0s - 1ms/step - accuracy: 0.8020 - loss: 0.5065\n",
      "Epoch 18/120\n",
      "29/29 - 0s - 1ms/step - accuracy: 0.8150 - loss: 0.4935\n",
      "Epoch 19/120\n",
      "29/29 - 0s - 2ms/step - accuracy: 0.8270 - loss: 0.4812\n",
      "Epoch 20/120\n",
      "29/29 - 0s - 2ms/step - accuracy: 0.8346 - loss: 0.4682\n",
      "Epoch 21/120\n",
      "29/29 - 0s - 2ms/step - accuracy: 0.8292 - loss: 0.4570\n",
      "Epoch 22/120\n",
      "29/29 - 0s - 1ms/step - accuracy: 0.8498 - loss: 0.4444\n",
      "Epoch 23/120\n",
      "29/29 - 0s - 1ms/step - accuracy: 0.8629 - loss: 0.4333\n",
      "Epoch 24/120\n",
      "29/29 - 0s - 1ms/step - accuracy: 0.8640 - loss: 0.4219\n",
      "Epoch 25/120\n",
      "29/29 - 0s - 2ms/step - accuracy: 0.8662 - loss: 0.4116\n",
      "Epoch 26/120\n",
      "29/29 - 0s - 2ms/step - accuracy: 0.8716 - loss: 0.4008\n",
      "Epoch 27/120\n",
      "29/29 - 0s - 1ms/step - accuracy: 0.8749 - loss: 0.3913\n",
      "Epoch 28/120\n",
      "29/29 - 0s - 1ms/step - accuracy: 0.8770 - loss: 0.3808\n",
      "Epoch 29/120\n",
      "29/29 - 0s - 1ms/step - accuracy: 0.8825 - loss: 0.3713\n",
      "Epoch 30/120\n",
      "29/29 - 0s - 1ms/step - accuracy: 0.8857 - loss: 0.3621\n",
      "Epoch 31/120\n",
      "29/29 - 0s - 1ms/step - accuracy: 0.8901 - loss: 0.3526\n",
      "Epoch 32/120\n",
      "29/29 - 0s - 2ms/step - accuracy: 0.8890 - loss: 0.3449\n",
      "Epoch 33/120\n",
      "29/29 - 0s - 1ms/step - accuracy: 0.8923 - loss: 0.3358\n",
      "Epoch 34/120\n",
      "29/29 - 0s - 1ms/step - accuracy: 0.8966 - loss: 0.3268\n",
      "Epoch 35/120\n",
      "29/29 - 0s - 1ms/step - accuracy: 0.8966 - loss: 0.3191\n",
      "Epoch 36/120\n",
      "29/29 - 0s - 5ms/step - accuracy: 0.9042 - loss: 0.3109\n",
      "Epoch 37/120\n",
      "29/29 - 0s - 2ms/step - accuracy: 0.9064 - loss: 0.3039\n",
      "Epoch 38/120\n",
      "29/29 - 0s - 1ms/step - accuracy: 0.9097 - loss: 0.2962\n",
      "Epoch 39/120\n",
      "29/29 - 0s - 1ms/step - accuracy: 0.9129 - loss: 0.2891\n",
      "Epoch 40/120\n",
      "29/29 - 0s - 1ms/step - accuracy: 0.9173 - loss: 0.2821\n",
      "Epoch 41/120\n",
      "29/29 - 0s - 1ms/step - accuracy: 0.9173 - loss: 0.2758\n",
      "Epoch 42/120\n",
      "29/29 - 0s - 1ms/step - accuracy: 0.9184 - loss: 0.2698\n",
      "Epoch 43/120\n",
      "29/29 - 0s - 2ms/step - accuracy: 0.9238 - loss: 0.2631\n",
      "Epoch 44/120\n",
      "29/29 - 0s - 2ms/step - accuracy: 0.9217 - loss: 0.2565\n",
      "Epoch 45/120\n",
      "29/29 - 0s - 1ms/step - accuracy: 0.9314 - loss: 0.2516\n",
      "Epoch 46/120\n",
      "29/29 - 0s - 1ms/step - accuracy: 0.9271 - loss: 0.2455\n",
      "Epoch 47/120\n",
      "29/29 - 0s - 1ms/step - accuracy: 0.9304 - loss: 0.2395\n",
      "Epoch 48/120\n",
      "29/29 - 0s - 1ms/step - accuracy: 0.9325 - loss: 0.2348\n",
      "Epoch 49/120\n",
      "29/29 - 0s - 1ms/step - accuracy: 0.9314 - loss: 0.2295\n",
      "Epoch 50/120\n",
      "29/29 - 0s - 1ms/step - accuracy: 0.9412 - loss: 0.2238\n",
      "Epoch 51/120\n",
      "29/29 - 0s - 1ms/step - accuracy: 0.9380 - loss: 0.2193\n",
      "Epoch 52/120\n",
      "29/29 - 0s - 1ms/step - accuracy: 0.9391 - loss: 0.2144\n",
      "Epoch 53/120\n",
      "29/29 - 0s - 1ms/step - accuracy: 0.9380 - loss: 0.2096\n",
      "Epoch 54/120\n",
      "29/29 - 0s - 1ms/step - accuracy: 0.9391 - loss: 0.2053\n",
      "Epoch 55/120\n",
      "29/29 - 0s - 1ms/step - accuracy: 0.9402 - loss: 0.2009\n",
      "Epoch 56/120\n",
      "29/29 - 0s - 1ms/step - accuracy: 0.9412 - loss: 0.1966\n",
      "Epoch 57/120\n",
      "29/29 - 0s - 1ms/step - accuracy: 0.9423 - loss: 0.1923\n",
      "Epoch 58/120\n",
      "29/29 - 0s - 1ms/step - accuracy: 0.9434 - loss: 0.1887\n",
      "Epoch 59/120\n",
      "29/29 - 0s - 1ms/step - accuracy: 0.9456 - loss: 0.1847\n",
      "Epoch 60/120\n",
      "29/29 - 0s - 1ms/step - accuracy: 0.9423 - loss: 0.1813\n",
      "Epoch 61/120\n",
      "29/29 - 0s - 1ms/step - accuracy: 0.9456 - loss: 0.1776\n",
      "Epoch 62/120\n",
      "29/29 - 0s - 1ms/step - accuracy: 0.9467 - loss: 0.1739\n",
      "Epoch 63/120\n",
      "29/29 - 0s - 1ms/step - accuracy: 0.9467 - loss: 0.1704\n",
      "Epoch 64/120\n",
      "29/29 - 0s - 2ms/step - accuracy: 0.9467 - loss: 0.1672\n",
      "Epoch 65/120\n",
      "29/29 - 0s - 1ms/step - accuracy: 0.9478 - loss: 0.1639\n",
      "Epoch 66/120\n",
      "29/29 - 0s - 1ms/step - accuracy: 0.9478 - loss: 0.1612\n",
      "Epoch 67/120\n",
      "29/29 - 0s - 1ms/step - accuracy: 0.9478 - loss: 0.1577\n",
      "Epoch 68/120\n",
      "29/29 - 0s - 1ms/step - accuracy: 0.9478 - loss: 0.1549\n",
      "Epoch 69/120\n",
      "29/29 - 0s - 1ms/step - accuracy: 0.9499 - loss: 0.1527\n",
      "Epoch 70/120\n",
      "29/29 - 0s - 1ms/step - accuracy: 0.9499 - loss: 0.1496\n",
      "Epoch 71/120\n",
      "29/29 - 0s - 1ms/step - accuracy: 0.9499 - loss: 0.1464\n",
      "Epoch 72/120\n",
      "29/29 - 0s - 1ms/step - accuracy: 0.9499 - loss: 0.1441\n",
      "Epoch 73/120\n",
      "29/29 - 0s - 1ms/step - accuracy: 0.9532 - loss: 0.1418\n",
      "Epoch 74/120\n",
      "29/29 - 0s - 2ms/step - accuracy: 0.9554 - loss: 0.1389\n",
      "Epoch 75/120\n",
      "29/29 - 0s - 2ms/step - accuracy: 0.9554 - loss: 0.1366\n",
      "Epoch 76/120\n",
      "29/29 - 0s - 1ms/step - accuracy: 0.9521 - loss: 0.1351\n",
      "Epoch 77/120\n",
      "29/29 - 0s - 1ms/step - accuracy: 0.9554 - loss: 0.1320\n",
      "Epoch 78/120\n",
      "29/29 - 0s - 1ms/step - accuracy: 0.9543 - loss: 0.1297\n",
      "Epoch 79/120\n",
      "29/29 - 0s - 1ms/step - accuracy: 0.9576 - loss: 0.1275\n",
      "Epoch 80/120\n",
      "29/29 - 0s - 1ms/step - accuracy: 0.9543 - loss: 0.1262\n",
      "Epoch 81/120\n",
      "29/29 - 0s - 2ms/step - accuracy: 0.9565 - loss: 0.1235\n",
      "Epoch 82/120\n",
      "29/29 - 0s - 2ms/step - accuracy: 0.9565 - loss: 0.1217\n",
      "Epoch 83/120\n",
      "29/29 - 0s - 1ms/step - accuracy: 0.9576 - loss: 0.1202\n",
      "Epoch 84/120\n",
      "29/29 - 0s - 1ms/step - accuracy: 0.9597 - loss: 0.1178\n",
      "Epoch 85/120\n",
      "29/29 - 0s - 1ms/step - accuracy: 0.9576 - loss: 0.1159\n",
      "Epoch 86/120\n",
      "29/29 - 0s - 1ms/step - accuracy: 0.9576 - loss: 0.1144\n",
      "Epoch 87/120\n",
      "29/29 - 0s - 1ms/step - accuracy: 0.9597 - loss: 0.1125\n",
      "Epoch 88/120\n",
      "29/29 - 0s - 1ms/step - accuracy: 0.9587 - loss: 0.1110\n",
      "Epoch 89/120\n",
      "29/29 - 0s - 2ms/step - accuracy: 0.9619 - loss: 0.1092\n",
      "Epoch 90/120\n",
      "29/29 - 0s - 1ms/step - accuracy: 0.9597 - loss: 0.1077\n",
      "Epoch 91/120\n",
      "29/29 - 0s - 1ms/step - accuracy: 0.9630 - loss: 0.1074\n",
      "Epoch 92/120\n",
      "29/29 - 0s - 1ms/step - accuracy: 0.9565 - loss: 0.1052\n",
      "Epoch 93/120\n",
      "29/29 - 0s - 1ms/step - accuracy: 0.9630 - loss: 0.1033\n",
      "Epoch 94/120\n",
      "29/29 - 0s - 1ms/step - accuracy: 0.9619 - loss: 0.1017\n",
      "Epoch 95/120\n",
      "29/29 - 0s - 2ms/step - accuracy: 0.9630 - loss: 0.1004\n",
      "Epoch 96/120\n",
      "29/29 - 0s - 3ms/step - accuracy: 0.9663 - loss: 0.0989\n",
      "Epoch 97/120\n",
      "29/29 - 0s - 1ms/step - accuracy: 0.9641 - loss: 0.0974\n",
      "Epoch 98/120\n",
      "29/29 - 0s - 1ms/step - accuracy: 0.9652 - loss: 0.0966\n",
      "Epoch 99/120\n",
      "29/29 - 0s - 1ms/step - accuracy: 0.9641 - loss: 0.0953\n",
      "Epoch 100/120\n",
      "29/29 - 0s - 1ms/step - accuracy: 0.9652 - loss: 0.0939\n",
      "Epoch 101/120\n",
      "29/29 - 0s - 1ms/step - accuracy: 0.9663 - loss: 0.0930\n",
      "Epoch 102/120\n",
      "29/29 - 0s - 2ms/step - accuracy: 0.9641 - loss: 0.0916\n",
      "Epoch 103/120\n",
      "29/29 - 0s - 1ms/step - accuracy: 0.9674 - loss: 0.0905\n",
      "Epoch 104/120\n",
      "29/29 - 0s - 1ms/step - accuracy: 0.9652 - loss: 0.0901\n",
      "Epoch 105/120\n",
      "29/29 - 0s - 1ms/step - accuracy: 0.9641 - loss: 0.0880\n",
      "Epoch 106/120\n",
      "29/29 - 0s - 1ms/step - accuracy: 0.9663 - loss: 0.0869\n",
      "Epoch 107/120\n",
      "29/29 - 0s - 1ms/step - accuracy: 0.9684 - loss: 0.0855\n",
      "Epoch 108/120\n",
      "29/29 - 0s - 2ms/step - accuracy: 0.9674 - loss: 0.0845\n",
      "Epoch 109/120\n",
      "29/29 - 0s - 2ms/step - accuracy: 0.9630 - loss: 0.0836\n",
      "Epoch 110/120\n",
      "29/29 - 0s - 2ms/step - accuracy: 0.9684 - loss: 0.0824\n",
      "Epoch 111/120\n",
      "29/29 - 0s - 1ms/step - accuracy: 0.9717 - loss: 0.0818\n",
      "Epoch 112/120\n",
      "29/29 - 0s - 1ms/step - accuracy: 0.9695 - loss: 0.0810\n",
      "Epoch 113/120\n",
      "29/29 - 0s - 2ms/step - accuracy: 0.9695 - loss: 0.0797\n",
      "Epoch 114/120\n",
      "29/29 - 0s - 1ms/step - accuracy: 0.9674 - loss: 0.0787\n",
      "Epoch 115/120\n",
      "29/29 - 0s - 2ms/step - accuracy: 0.9717 - loss: 0.0780\n",
      "Epoch 116/120\n",
      "29/29 - 0s - 2ms/step - accuracy: 0.9695 - loss: 0.0771\n",
      "Epoch 117/120\n",
      "29/29 - 0s - 1ms/step - accuracy: 0.9706 - loss: 0.0760\n",
      "Epoch 118/120\n",
      "29/29 - 0s - 1ms/step - accuracy: 0.9695 - loss: 0.0753\n",
      "Epoch 119/120\n",
      "29/29 - 0s - 2ms/step - accuracy: 0.9695 - loss: 0.0746\n",
      "Epoch 120/120\n",
      "29/29 - 0s - 1ms/step - accuracy: 0.9717 - loss: 0.0739\n"
     ]
    },
    {
     "data": {
      "text/plain": [
       "<keras.src.callbacks.history.History at 0x1e143621d00>"
      ]
     },
     "execution_count": 19,
     "metadata": {},
     "output_type": "execute_result"
    }
   ],
   "source": [
    "\n",
    "model.fit(scaled_X_train, y_train, epochs=120, verbose=2)"
   ]
  },
  {
   "cell_type": "code",
   "execution_count": 20,
   "metadata": {},
   "outputs": [
    {
     "name": "stdout",
     "output_type": "stream",
     "text": [
      "\u001b[1m15/15\u001b[0m \u001b[32m━━━━━━━━━━━━━━━━━━━━\u001b[0m\u001b[37m\u001b[0m \u001b[1m0s\u001b[0m 3ms/step \n"
     ]
    }
   ],
   "source": [
    "predictions = model.predict(scaled_X_test)"
   ]
  },
  {
   "cell_type": "code",
   "execution_count": 21,
   "metadata": {},
   "outputs": [],
   "source": [
    "classes = (predictions > 0.5).astype(int)"
   ]
  },
  {
   "cell_type": "markdown",
   "metadata": {},
   "source": [
    "# evaluar"
   ]
  },
  {
   "cell_type": "code",
   "execution_count": 23,
   "metadata": {},
   "outputs": [
    {
     "data": {
      "text/plain": [
       "['loss', 'compile_metrics']"
      ]
     },
     "execution_count": 23,
     "metadata": {},
     "output_type": "execute_result"
    }
   ],
   "source": [
    "model.metrics_names"
   ]
  },
  {
   "cell_type": "code",
   "execution_count": 24,
   "metadata": {},
   "outputs": [
    {
     "name": "stdout",
     "output_type": "stream",
     "text": [
      "\u001b[1m15/15\u001b[0m \u001b[32m━━━━━━━━━━━━━━━━━━━━\u001b[0m\u001b[37m\u001b[0m \u001b[1m0s\u001b[0m 1ms/step - accuracy: 0.9679 - loss: 0.0814 \n"
     ]
    },
    {
     "data": {
      "text/plain": [
       "[0.06934108585119247, 0.9713024497032166]"
      ]
     },
     "execution_count": 24,
     "metadata": {},
     "output_type": "execute_result"
    }
   ],
   "source": [
    "model.evaluate(x=scaled_X_test, y=y_test)"
   ]
  },
  {
   "cell_type": "code",
   "execution_count": 25,
   "metadata": {},
   "outputs": [],
   "source": [
    "from sklearn.metrics import confusion_matrix, classification_report"
   ]
  },
  {
   "cell_type": "code",
   "execution_count": 26,
   "metadata": {},
   "outputs": [
    {
     "data": {
      "text/plain": [
       "array([[251,   6],\n",
       "       [  7, 189]], dtype=int64)"
      ]
     },
     "execution_count": 26,
     "metadata": {},
     "output_type": "execute_result"
    }
   ],
   "source": [
    "confusion_matrix(y_test,classes)"
   ]
  },
  {
   "cell_type": "code",
   "execution_count": 27,
   "metadata": {},
   "outputs": [
    {
     "name": "stdout",
     "output_type": "stream",
     "text": [
      "              precision    recall  f1-score   support\n",
      "\n",
      "         0.0       0.97      0.98      0.97       257\n",
      "         1.0       0.97      0.96      0.97       196\n",
      "\n",
      "    accuracy                           0.97       453\n",
      "   macro avg       0.97      0.97      0.97       453\n",
      "weighted avg       0.97      0.97      0.97       453\n",
      "\n"
     ]
    }
   ],
   "source": [
    "print(classification_report(y_test,classes))"
   ]
  },
  {
   "cell_type": "code",
   "execution_count": 28,
   "metadata": {},
   "outputs": [
    {
     "name": "stderr",
     "output_type": "stream",
     "text": [
      "WARNING:absl:You are saving your model as an HDF5 file via `model.save()` or `keras.saving.save_model(model)`. This file format is considered legacy. We recommend using instead the native Keras format, e.g. `model.save('my_model.keras')` or `keras.saving.save_model(model, 'my_model.keras')`. \n"
     ]
    }
   ],
   "source": [
    "model.save('mimodelo.h5')"
   ]
  },
  {
   "cell_type": "code",
   "execution_count": 29,
   "metadata": {},
   "outputs": [],
   "source": [
    "from keras.models import load_model"
   ]
  },
  {
   "cell_type": "code",
   "execution_count": 30,
   "metadata": {},
   "outputs": [
    {
     "name": "stderr",
     "output_type": "stream",
     "text": [
      "WARNING:absl:Compiled the loaded model, but the compiled metrics have yet to be built. `model.compile_metrics` will be empty until you train or evaluate the model.\n"
     ]
    }
   ],
   "source": [
    "nuevo_modelo = load_model('mimodelo.h5')"
   ]
  },
  {
   "cell_type": "code",
   "execution_count": 31,
   "metadata": {},
   "outputs": [
    {
     "data": {
      "text/html": [
       "<pre style=\"white-space:pre;overflow-x:auto;line-height:normal;font-family:Menlo,'DejaVu Sans Mono',consolas,'Courier New',monospace\"><span style=\"font-weight: bold\">Model: \"sequential\"</span>\n",
       "</pre>\n"
      ],
      "text/plain": [
       "\u001b[1mModel: \"sequential\"\u001b[0m\n"
      ]
     },
     "metadata": {},
     "output_type": "display_data"
    },
    {
     "data": {
      "text/html": [
       "<pre style=\"white-space:pre;overflow-x:auto;line-height:normal;font-family:Menlo,'DejaVu Sans Mono',consolas,'Courier New',monospace\">┏━━━━━━━━━━━━━━━━━━━━━━━━━━━━━━━━━┳━━━━━━━━━━━━━━━━━━━━━━━━┳━━━━━━━━━━━━━━━┓\n",
       "┃<span style=\"font-weight: bold\"> Layer (type)                    </span>┃<span style=\"font-weight: bold\"> Output Shape           </span>┃<span style=\"font-weight: bold\">       Param # </span>┃\n",
       "┡━━━━━━━━━━━━━━━━━━━━━━━━━━━━━━━━━╇━━━━━━━━━━━━━━━━━━━━━━━━╇━━━━━━━━━━━━━━━┩\n",
       "│ dense (<span style=\"color: #0087ff; text-decoration-color: #0087ff\">Dense</span>)                   │ (<span style=\"color: #00d7ff; text-decoration-color: #00d7ff\">None</span>, <span style=\"color: #00af00; text-decoration-color: #00af00\">4</span>)              │            <span style=\"color: #00af00; text-decoration-color: #00af00\">20</span> │\n",
       "├─────────────────────────────────┼────────────────────────┼───────────────┤\n",
       "│ dense_1 (<span style=\"color: #0087ff; text-decoration-color: #0087ff\">Dense</span>)                 │ (<span style=\"color: #00d7ff; text-decoration-color: #00d7ff\">None</span>, <span style=\"color: #00af00; text-decoration-color: #00af00\">8</span>)              │            <span style=\"color: #00af00; text-decoration-color: #00af00\">40</span> │\n",
       "├─────────────────────────────────┼────────────────────────┼───────────────┤\n",
       "│ dense_2 (<span style=\"color: #0087ff; text-decoration-color: #0087ff\">Dense</span>)                 │ (<span style=\"color: #00d7ff; text-decoration-color: #00d7ff\">None</span>, <span style=\"color: #00af00; text-decoration-color: #00af00\">1</span>)              │             <span style=\"color: #00af00; text-decoration-color: #00af00\">9</span> │\n",
       "└─────────────────────────────────┴────────────────────────┴───────────────┘\n",
       "</pre>\n"
      ],
      "text/plain": [
       "┏━━━━━━━━━━━━━━━━━━━━━━━━━━━━━━━━━┳━━━━━━━━━━━━━━━━━━━━━━━━┳━━━━━━━━━━━━━━━┓\n",
       "┃\u001b[1m \u001b[0m\u001b[1mLayer (type)                   \u001b[0m\u001b[1m \u001b[0m┃\u001b[1m \u001b[0m\u001b[1mOutput Shape          \u001b[0m\u001b[1m \u001b[0m┃\u001b[1m \u001b[0m\u001b[1m      Param #\u001b[0m\u001b[1m \u001b[0m┃\n",
       "┡━━━━━━━━━━━━━━━━━━━━━━━━━━━━━━━━━╇━━━━━━━━━━━━━━━━━━━━━━━━╇━━━━━━━━━━━━━━━┩\n",
       "│ dense (\u001b[38;5;33mDense\u001b[0m)                   │ (\u001b[38;5;45mNone\u001b[0m, \u001b[38;5;34m4\u001b[0m)              │            \u001b[38;5;34m20\u001b[0m │\n",
       "├─────────────────────────────────┼────────────────────────┼───────────────┤\n",
       "│ dense_1 (\u001b[38;5;33mDense\u001b[0m)                 │ (\u001b[38;5;45mNone\u001b[0m, \u001b[38;5;34m8\u001b[0m)              │            \u001b[38;5;34m40\u001b[0m │\n",
       "├─────────────────────────────────┼────────────────────────┼───────────────┤\n",
       "│ dense_2 (\u001b[38;5;33mDense\u001b[0m)                 │ (\u001b[38;5;45mNone\u001b[0m, \u001b[38;5;34m1\u001b[0m)              │             \u001b[38;5;34m9\u001b[0m │\n",
       "└─────────────────────────────────┴────────────────────────┴───────────────┘\n"
      ]
     },
     "metadata": {},
     "output_type": "display_data"
    },
    {
     "data": {
      "text/html": [
       "<pre style=\"white-space:pre;overflow-x:auto;line-height:normal;font-family:Menlo,'DejaVu Sans Mono',consolas,'Courier New',monospace\"><span style=\"font-weight: bold\"> Total params: </span><span style=\"color: #00af00; text-decoration-color: #00af00\">71</span> (288.00 B)\n",
       "</pre>\n"
      ],
      "text/plain": [
       "\u001b[1m Total params: \u001b[0m\u001b[38;5;34m71\u001b[0m (288.00 B)\n"
      ]
     },
     "metadata": {},
     "output_type": "display_data"
    },
    {
     "data": {
      "text/html": [
       "<pre style=\"white-space:pre;overflow-x:auto;line-height:normal;font-family:Menlo,'DejaVu Sans Mono',consolas,'Courier New',monospace\"><span style=\"font-weight: bold\"> Trainable params: </span><span style=\"color: #00af00; text-decoration-color: #00af00\">69</span> (276.00 B)\n",
       "</pre>\n"
      ],
      "text/plain": [
       "\u001b[1m Trainable params: \u001b[0m\u001b[38;5;34m69\u001b[0m (276.00 B)\n"
      ]
     },
     "metadata": {},
     "output_type": "display_data"
    },
    {
     "data": {
      "text/html": [
       "<pre style=\"white-space:pre;overflow-x:auto;line-height:normal;font-family:Menlo,'DejaVu Sans Mono',consolas,'Courier New',monospace\"><span style=\"font-weight: bold\"> Non-trainable params: </span><span style=\"color: #00af00; text-decoration-color: #00af00\">0</span> (0.00 B)\n",
       "</pre>\n"
      ],
      "text/plain": [
       "\u001b[1m Non-trainable params: \u001b[0m\u001b[38;5;34m0\u001b[0m (0.00 B)\n"
      ]
     },
     "metadata": {},
     "output_type": "display_data"
    },
    {
     "data": {
      "text/html": [
       "<pre style=\"white-space:pre;overflow-x:auto;line-height:normal;font-family:Menlo,'DejaVu Sans Mono',consolas,'Courier New',monospace\"><span style=\"font-weight: bold\"> Optimizer params: </span><span style=\"color: #00af00; text-decoration-color: #00af00\">2</span> (12.00 B)\n",
       "</pre>\n"
      ],
      "text/plain": [
       "\u001b[1m Optimizer params: \u001b[0m\u001b[38;5;34m2\u001b[0m (12.00 B)\n"
      ]
     },
     "metadata": {},
     "output_type": "display_data"
    }
   ],
   "source": [
    "nuevo_modelo.summary()"
   ]
  },
  {
   "cell_type": "code",
   "execution_count": null,
   "metadata": {},
   "outputs": [],
   "source": []
  }
 ],
 "metadata": {
  "kernelspec": {
   "display_name": "Vision_Computer",
   "language": "python",
   "name": "python3"
  },
  "language_info": {
   "codemirror_mode": {
    "name": "ipython",
    "version": 3
   },
   "file_extension": ".py",
   "mimetype": "text/x-python",
   "name": "python",
   "nbconvert_exporter": "python",
   "pygments_lexer": "ipython3",
   "version": "3.12.4"
  }
 },
 "nbformat": 4,
 "nbformat_minor": 2
}
