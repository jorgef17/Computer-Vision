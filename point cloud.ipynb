{
 "cells": [
  {
   "cell_type": "code",
   "execution_count": 35,
   "metadata": {},
   "outputs": [],
   "source": [
    "import open3d as o3d"
   ]
  },
  {
   "cell_type": "code",
   "execution_count": 36,
   "metadata": {},
   "outputs": [],
   "source": [
    "def save_point_cloud_as_ply(point_cloud, file_name):\n",
    "    \"\"\"Guarda la nube de puntos como un archivo PLY.\"\"\"\n",
    "    print(f\"Guardando nube de puntos como {file_name}...\")\n",
    "    o3d.io.write_point_cloud(file_name, point_cloud)\n",
    "\n",
    "def visualize_point_cloud(point_cloud, window_name):\n",
    "    \"\"\"Visualiza una nube de puntos en una ventana.\"\"\"\n",
    "    print(f\"Visualizando nube de puntos en ventana {window_name}...\")\n",
    "    vis = o3d.visualization.Visualizer()\n",
    "    vis.create_window(window_name=window_name)\n",
    "    vis.add_geometry(point_cloud)\n",
    "    vis.run()\n",
    "    vis.destroy_window()\n",
    "\n",
    "\n",
    "\n",
    "def compare_point_clouds(original_cloud, inlier_cloud, outlier_cloud):\n",
    "    \"\"\"\n",
    "    Compara el número de puntos en las nubes de puntos para verificar la precisión de la segmentación.\n",
    "    \"\"\"\n",
    "    original_count = len(original_cloud.points)\n",
    "    inlier_count = len(inlier_cloud.points)\n",
    "    outlier_count = len(outlier_cloud.points)\n",
    "    \n",
    "    print(f\"Puntos originales: {original_count}\")\n",
    "    print(f\"Puntos del plano (inliers): {inlier_count}\")\n",
    "    print(f\"Puntos fuera del plano (outliers): {outlier_count}\")\n",
    "    print(f\"Total puntos (inliers + outliers): {inlier_count + outlier_count}\")\n",
    "\n",
    "    # Verificar que el conteo coincide\n",
    "    if original_count == inlier_count + outlier_count:\n",
    "        print(\"La comparación es correcta. Los puntos fuera del plano coinciden con la nube original menos los inliers.\")\n",
    "    else:\n",
    "        print(\"La comparación no es correcta. Verifica la segmentación y el procesamiento de los datos.\")\n",
    "\n"
   ]
  },
  {
   "cell_type": "code",
   "execution_count": 37,
   "metadata": {},
   "outputs": [
    {
     "name": "stdout",
     "output_type": "stream",
     "text": [
      "Cargando la nube de puntos...\n"
     ]
    }
   ],
   "source": [
    "# Ruta del archivo de la nube de puntos\n",
    "file_path = \"dragon_backdrop\\dragonBk1_0.ply\"\n",
    "# Cargar la nube de puntos\n",
    "print(\"Cargando la nube de puntos...\")\n",
    "point_cloud = o3d.io.read_point_cloud(file_path)"
   ]
  },
  {
   "cell_type": "code",
   "execution_count": 38,
   "metadata": {},
   "outputs": [
    {
     "name": "stdout",
     "output_type": "stream",
     "text": [
      "Aplicando filtro de voxel para reducir el número de puntos...\n"
     ]
    }
   ],
   "source": [
    "# Aplicar filtro de voxel\n",
    "voxel_size = 0.02\n",
    "print(\"Aplicando filtro de voxel para reducir el número de puntos...\")\n",
    "downsampled_point_cloud = point_cloud.voxel_down_sample(voxel_size)"
   ]
  },
  {
   "cell_type": "code",
   "execution_count": 39,
   "metadata": {},
   "outputs": [
    {
     "name": "stdout",
     "output_type": "stream",
     "text": [
      "Segmentando el plano utilizando RANSAC...\n",
      "Modelo del plano: [-0.00418686 -0.00153112  0.99999006  0.06234177]\n",
      "Número de inliers: 122\n"
     ]
    }
   ],
   "source": [
    "# Segmentación del plano\n",
    "print(\"Segmentando el plano utilizando RANSAC...\")\n",
    "plane_model, inliers = downsampled_point_cloud.segment_plane(distance_threshold=0.01, ransac_n=3, num_iterations=1000)\n",
    "print(f\"Modelo del plano: {plane_model}\")\n",
    "print(f\"Número de inliers: {len(inliers)}\")"
   ]
  },
  {
   "cell_type": "code",
   "execution_count": 40,
   "metadata": {},
   "outputs": [],
   "source": [
    "# Extraer y guardar los puntos del plano y los puntos fuera del plano\n",
    "inlier_cloud = downsampled_point_cloud.select_by_index(inliers)\n",
    "outlier_cloud = downsampled_point_cloud.select_by_index(inliers, invert=True)\n",
    "    "
   ]
  },
  {
   "cell_type": "code",
   "execution_count": 41,
   "metadata": {},
   "outputs": [
    {
     "name": "stdout",
     "output_type": "stream",
     "text": [
      "Guardando nube de puntos como inlier_cloud.ply...\n",
      "Guardando nube de puntos como outlier_cloud.ply...\n",
      "Visualizando nube de puntos en ventana Nube de Puntos Original...\n"
     ]
    }
   ],
   "source": [
    "# Guardar las nubes de puntos segmentadas\n",
    "save_point_cloud_as_ply(inlier_cloud, \"inlier_cloud.ply\")\n",
    "save_point_cloud_as_ply(outlier_cloud, \"outlier_cloud.ply\")\n",
    "\n",
    "# Visualizar la nube de puntos original\n",
    "visualize_point_cloud(point_cloud, \"Nube de Puntos Original\")"
   ]
  },
  {
   "cell_type": "code",
   "execution_count": 45,
   "metadata": {},
   "outputs": [
    {
     "name": "stdout",
     "output_type": "stream",
     "text": [
      "Visualizando nube de puntos en ventana Nube de Puntos del Plano...\n",
      "Visualizando nube de puntos en ventana Nube de Puntos Fuera del Plano...\n"
     ]
    }
   ],
   "source": [
    "# Visualizar las nubes de puntos guardadas\n",
    "visualize_point_cloud(inlier_cloud, \"Nube de Puntos del Plano\")\n",
    "visualize_point_cloud(outlier_cloud, \"Nube de Puntos Fuera del Plano\")"
   ]
  },
  {
   "cell_type": "code",
   "execution_count": 43,
   "metadata": {},
   "outputs": [
    {
     "name": "stdout",
     "output_type": "stream",
     "text": [
      "Puntos originales: 260\n",
      "Puntos del plano (inliers): 122\n",
      "Puntos fuera del plano (outliers): 138\n",
      "Total puntos (inliers + outliers): 260\n",
      "La comparación es correcta. Los puntos fuera del plano coinciden con la nube original menos los inliers.\n"
     ]
    }
   ],
   "source": [
    "# Comparar las nubes de puntos\n",
    "compare_point_clouds(downsampled_point_cloud, inlier_cloud, outlier_cloud)"
   ]
  }
 ],
 "metadata": {
  "kernelspec": {
   "display_name": "Pointcloud",
   "language": "python",
   "name": "python3"
  },
  "language_info": {
   "codemirror_mode": {
    "name": "ipython",
    "version": 3
   },
   "file_extension": ".py",
   "mimetype": "text/x-python",
   "name": "python",
   "nbconvert_exporter": "python",
   "pygments_lexer": "ipython3",
   "version": "3.11.9"
  }
 },
 "nbformat": 4,
 "nbformat_minor": 2
}
